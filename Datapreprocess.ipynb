{
 "cells": [
  {
   "cell_type": "markdown",
   "id": "fiscal-albany",
   "metadata": {},
   "source": [
    "## Loading Librariees"
   ]
  },
  {
   "cell_type": "code",
   "execution_count": 1,
   "id": "automatic-general",
   "metadata": {},
   "outputs": [],
   "source": [
    "import numpy as np\n",
    "import pandas as pd"
   ]
  },
  {
   "cell_type": "markdown",
   "id": "thousand-socket",
   "metadata": {},
   "source": [
    "## Loading Data"
   ]
  },
  {
   "cell_type": "code",
   "execution_count": 24,
   "id": "friendly-jordan",
   "metadata": {},
   "outputs": [
    {
     "name": "stdout",
     "output_type": "stream",
     "text": [
      "            Date      Open      High       Low     Close    Volume  OpenInt\n",
      "0     1987-08-19   0.24563   0.24793   0.23872   0.24337  13249179        0\n",
      "1     1987-08-20   0.24337   0.24793   0.24337   0.24563  13869472        0\n",
      "2     1987-08-21   0.24793   0.24793   0.24337   0.24563   2780866        0\n",
      "3     1987-08-24   0.24337   0.24563   0.24337   0.24337  12754334        0\n",
      "4     1987-08-25   0.24104   0.27093   0.24104   0.26389  31767365        0\n",
      "...          ...       ...       ...       ...       ...       ...      ...\n",
      "7615  2017-11-06  55.29000  56.13000  55.14000  56.04000   9241026        0\n",
      "7616  2017-11-07  55.75000  56.01500  55.02000  55.15000   7364880        0\n",
      "7617  2017-11-08  55.00000  55.77000  54.89000  55.76000   7078567        0\n",
      "7618  2017-11-09  55.50000  56.35000  55.31000  56.13000  10946206        0\n",
      "7619  2017-11-10  55.88000  56.49000  55.62000  56.09000   7535726        0\n",
      "\n",
      "[7620 rows x 7 columns]\n"
     ]
    }
   ],
   "source": [
    "#nike = pd.read_csv('./tmp/nke.us.txt')\n",
    "#print (nike)"
   ]
  },
  {
   "cell_type": "code",
   "execution_count": 33,
   "id": "middle-tournament",
   "metadata": {},
   "outputs": [
    {
     "name": "stdout",
     "output_type": "stream",
     "text": [
      "            Date       Open       High        Low      Close  Adj Close  \\\n",
      "0     1980-12-02   0.179688   0.183594   0.179688   0.179688   0.000004   \n",
      "1     1980-12-03   0.177734   0.177734   0.175781   0.175781   0.000004   \n",
      "2     1980-12-04   0.181641   0.183594   0.181641   0.181641   0.000004   \n",
      "3     1980-12-05   0.175781   0.175781   0.171875   0.171875   0.000004   \n",
      "4     1980-12-08   0.164062   0.164062   0.162109   0.162109   0.000003   \n",
      "...          ...        ...        ...        ...        ...        ...   \n",
      "9914  2020-03-26  80.169998  86.860001  80.010002  84.300003  84.300003   \n",
      "9915  2020-03-27  81.699997  85.739998  79.510002  83.230003  83.230003   \n",
      "9916  2020-03-30  84.000000  85.959999  81.500000  85.379997  85.379997   \n",
      "9917  2020-03-31  85.129997  85.730003  82.400002  82.739998  82.739998   \n",
      "9918  2020-04-01  79.489998  81.180000  78.529999  79.230003  79.230003   \n",
      "\n",
      "           Volume  \n",
      "0     100710400.0  \n",
      "1      25177600.0  \n",
      "2      22694400.0  \n",
      "3       7590400.0  \n",
      "4       5414400.0  \n",
      "...           ...  \n",
      "9914   17200800.0  \n",
      "9915   14183400.0  \n",
      "9916   10960100.0  \n",
      "9917    9610100.0  \n",
      "9918    9770300.0  \n",
      "\n",
      "[9919 rows x 7 columns]\n"
     ]
    }
   ],
   "source": [
    "nike = pd.read_csv('./tmp/NKE.csv')\n",
    "print (nike)"
   ]
  },
  {
   "cell_type": "code",
   "execution_count": 6,
   "id": "extreme-choir",
   "metadata": {},
   "outputs": [
    {
     "name": "stdout",
     "output_type": "stream",
     "text": [
      "            Date     Open     High      Low    Close    Volume  OpenInt\n",
      "0     1999-05-04   67.665   68.780   62.329   62.659  24472946        0\n",
      "1     1999-05-05   62.213   62.213   58.991   61.547   8295140        0\n",
      "2     1999-05-06   60.542   61.773   59.712   60.488   3185852        0\n",
      "3     1999-05-07   60.488   66.671   59.429   65.998   5331091        0\n",
      "4     1999-05-10   65.331   65.441   62.549   62.941   2839054        0\n",
      "...          ...      ...      ...      ...      ...       ...      ...\n",
      "4656  2017-11-06  243.500  244.579  241.670  243.490   1733854        0\n",
      "4657  2017-11-07  243.910  244.980  238.840  239.810   2435057        0\n",
      "4658  2017-11-08  239.200  242.320  237.550  241.250   2349422        0\n",
      "4659  2017-11-09  239.510  242.367  237.840  240.790   2122535        0\n",
      "4660  2017-11-10  241.690  243.320  240.000  240.150   1844519        0\n",
      "\n",
      "[4661 rows x 7 columns]\n"
     ]
    }
   ],
   "source": [
    "goldsachs = pd.read_csv('./tmp/gs.us.txt')\n",
    "print (goldsachs)"
   ]
  },
  {
   "cell_type": "code",
   "execution_count": 7,
   "id": "controlled-antarctica",
   "metadata": {},
   "outputs": [
    {
     "name": "stdout",
     "output_type": "stream",
     "text": [
      "             Date      Open      High       Low     Close    Volume  OpenInt\n",
      "0      1970-01-02    3.1254    3.1254    3.0920    3.1254     29448        0\n",
      "1      1970-01-05    3.1254    3.1339    3.1004    3.1254     38447        0\n",
      "2      1970-01-06    3.1254    3.1588    3.1087    3.1588     33540        0\n",
      "3      1970-01-07    3.1671    3.2503    3.1671    3.2337     88350        0\n",
      "4      1970-01-08    3.2254    3.2254    3.1838    3.2254     26177        0\n",
      "...           ...       ...       ...       ...       ...       ...      ...\n",
      "12069  2017-11-06  101.3400  101.6870  100.6600  100.7800   8115897        0\n",
      "12070  2017-11-07  100.5600  100.7500   98.2500   98.7500  18808493        0\n",
      "12071  2017-11-08   98.2700   98.3700   97.1500   97.6400  18517768        0\n",
      "12072  2017-11-09   97.1200   98.2150   96.8100   97.6300  13692746        0\n",
      "12073  2017-11-10   97.8100   98.3400   97.5000   97.5100   9312355        0\n",
      "\n",
      "[12074 rows x 7 columns]\n"
     ]
    }
   ],
   "source": [
    "jpmorg = pd.read_csv('./tmp/jpm.us.txt')\n",
    "print (jpmorg)"
   ]
  },
  {
   "cell_type": "code",
   "execution_count": 8,
   "id": "proof-middle",
   "metadata": {},
   "outputs": [
    {
     "name": "stdout",
     "output_type": "stream",
     "text": [
      "            Date     Open     High       Low    Close    Volume  OpenInt\n",
      "0     1982-01-04   0.5243   0.5324   0.51690   0.5169   4176469        0\n",
      "1     1982-01-05   0.5169   0.5169   0.50890   0.5089   7494341        0\n",
      "2     1982-01-06   0.5009   0.5169   0.49294   0.5169  16681350        0\n",
      "3     1982-01-07   0.5243   0.5324   0.51690   0.5243  26205667        0\n",
      "4     1982-01-08   0.5324   0.5400   0.52430   0.5324  22575014        0\n",
      "...          ...      ...      ...       ...      ...       ...      ...\n",
      "9037  2017-11-06  35.2680  35.2880  34.80200  35.0000  10722965        0\n",
      "9038  2017-11-07  34.9800  35.0990  34.92100  35.0400  10992031        0\n",
      "9039  2017-11-08  35.0500  35.0700  34.71300  35.0200  13693200        0\n",
      "9040  2017-11-09  35.0800  35.2500  34.84000  35.2000  13364668        0\n",
      "9041  2017-11-10  35.1000  35.1900  34.79500  35.1800  15045115        0\n",
      "\n",
      "[9042 rows x 7 columns]\n"
     ]
    }
   ],
   "source": [
    "pfizer = pd.read_csv('./tmp/pfe.us.txt')\n",
    "print (pfizer)"
   ]
  },
  {
   "cell_type": "code",
   "execution_count": 9,
   "id": "boolean-apparel",
   "metadata": {},
   "outputs": [
    {
     "name": "stdout",
     "output_type": "stream",
     "text": [
      "             Date      Open      High       Low     Close   Volume  OpenInt\n",
      "0      1970-01-02    0.6104    0.6104    0.5941    0.5941  1468563        0\n",
      "1      1970-01-05    0.5941    0.5941    0.5776    0.5776  1185461        0\n",
      "2      1970-01-06    0.5776    0.5864    0.5776    0.5864  1273931        0\n",
      "3      1970-01-07    0.5864    0.5941    0.5864    0.5864   406950        0\n",
      "4      1970-01-08    0.5864    0.5941    0.5864    0.5941   566189        0\n",
      "...           ...       ...       ...       ...       ...      ...      ...\n",
      "12069  2017-11-06  140.0100  140.4900  139.7200  139.7600  4220661        0\n",
      "12070  2017-11-07  140.0800  140.1500  138.9100  139.7700  4194070        0\n",
      "12071  2017-11-08  139.7000  141.8700  139.4600  141.3200  4440694        0\n",
      "12072  2017-11-09  140.8600  141.4100  139.8000  140.3500  3516887        0\n",
      "12073  2017-11-10  140.1300  140.1300  138.6100  139.5600  4240286        0\n",
      "\n",
      "[12074 rows x 7 columns]\n"
     ]
    }
   ],
   "source": [
    "jonnjon = pd.read_csv('./tmp/jnj.us.txt')\n",
    "print (jonnjon)"
   ]
  },
  {
   "cell_type": "markdown",
   "id": "laughing-schema",
   "metadata": {},
   "source": [
    "## Data Preprocessing"
   ]
  },
  {
   "cell_type": "code",
   "execution_count": 34,
   "id": "fifteen-advertiser",
   "metadata": {},
   "outputs": [
    {
     "data": {
      "text/html": [
       "<div>\n",
       "<style scoped>\n",
       "    .dataframe tbody tr th:only-of-type {\n",
       "        vertical-align: middle;\n",
       "    }\n",
       "\n",
       "    .dataframe tbody tr th {\n",
       "        vertical-align: top;\n",
       "    }\n",
       "\n",
       "    .dataframe thead th {\n",
       "        text-align: right;\n",
       "    }\n",
       "</style>\n",
       "<table border=\"1\" class=\"dataframe\">\n",
       "  <thead>\n",
       "    <tr style=\"text-align: right;\">\n",
       "      <th></th>\n",
       "      <th>index</th>\n",
       "      <th>Date</th>\n",
       "      <th>Open</th>\n",
       "      <th>High</th>\n",
       "      <th>Low</th>\n",
       "      <th>Close</th>\n",
       "      <th>high_low</th>\n",
       "      <th>open_close</th>\n",
       "      <th>mvavgo7</th>\n",
       "      <th>mvavgc7</th>\n",
       "      <th>mvavgo14</th>\n",
       "      <th>mvavgc14</th>\n",
       "      <th>mvavgo21</th>\n",
       "      <th>mvavgc21</th>\n",
       "      <th>sd7o</th>\n",
       "      <th>sd7c</th>\n",
       "    </tr>\n",
       "  </thead>\n",
       "  <tbody>\n",
       "    <tr>\n",
       "      <th>0</th>\n",
       "      <td>20</td>\n",
       "      <td>1980-12-31</td>\n",
       "      <td>0.166016</td>\n",
       "      <td>0.167969</td>\n",
       "      <td>0.164062</td>\n",
       "      <td>0.164062</td>\n",
       "      <td>0.003906</td>\n",
       "      <td>0.001953</td>\n",
       "      <td>0.161551</td>\n",
       "      <td>0.160993</td>\n",
       "      <td>0.155134</td>\n",
       "      <td>0.154018</td>\n",
       "      <td>0.160342</td>\n",
       "      <td>0.158761</td>\n",
       "      <td>0.005255</td>\n",
       "      <td>0.004897</td>\n",
       "    </tr>\n",
       "    <tr>\n",
       "      <th>1</th>\n",
       "      <td>21</td>\n",
       "      <td>1981-01-02</td>\n",
       "      <td>0.167969</td>\n",
       "      <td>0.171875</td>\n",
       "      <td>0.167969</td>\n",
       "      <td>0.167969</td>\n",
       "      <td>0.003906</td>\n",
       "      <td>0.000000</td>\n",
       "      <td>0.163783</td>\n",
       "      <td>0.163225</td>\n",
       "      <td>0.156808</td>\n",
       "      <td>0.155971</td>\n",
       "      <td>0.159784</td>\n",
       "      <td>0.158203</td>\n",
       "      <td>0.003812</td>\n",
       "      <td>0.003716</td>\n",
       "    </tr>\n",
       "    <tr>\n",
       "      <th>2</th>\n",
       "      <td>22</td>\n",
       "      <td>1981-01-05</td>\n",
       "      <td>0.174805</td>\n",
       "      <td>0.177734</td>\n",
       "      <td>0.174805</td>\n",
       "      <td>0.174805</td>\n",
       "      <td>0.002930</td>\n",
       "      <td>0.000000</td>\n",
       "      <td>0.166434</td>\n",
       "      <td>0.165876</td>\n",
       "      <td>0.158831</td>\n",
       "      <td>0.157994</td>\n",
       "      <td>0.159645</td>\n",
       "      <td>0.158157</td>\n",
       "      <td>0.004138</td>\n",
       "      <td>0.004455</td>\n",
       "    </tr>\n",
       "    <tr>\n",
       "      <th>3</th>\n",
       "      <td>23</td>\n",
       "      <td>1981-01-06</td>\n",
       "      <td>0.175781</td>\n",
       "      <td>0.177734</td>\n",
       "      <td>0.175781</td>\n",
       "      <td>0.175781</td>\n",
       "      <td>0.001953</td>\n",
       "      <td>0.000000</td>\n",
       "      <td>0.168387</td>\n",
       "      <td>0.167829</td>\n",
       "      <td>0.160505</td>\n",
       "      <td>0.159668</td>\n",
       "      <td>0.159366</td>\n",
       "      <td>0.157878</td>\n",
       "      <td>0.004911</td>\n",
       "      <td>0.005421</td>\n",
       "    </tr>\n",
       "    <tr>\n",
       "      <th>4</th>\n",
       "      <td>24</td>\n",
       "      <td>1981-01-07</td>\n",
       "      <td>0.167969</td>\n",
       "      <td>0.167969</td>\n",
       "      <td>0.166016</td>\n",
       "      <td>0.166016</td>\n",
       "      <td>0.001953</td>\n",
       "      <td>0.001953</td>\n",
       "      <td>0.168945</td>\n",
       "      <td>0.168108</td>\n",
       "      <td>0.161621</td>\n",
       "      <td>0.160924</td>\n",
       "      <td>0.158994</td>\n",
       "      <td>0.157599</td>\n",
       "      <td>0.004546</td>\n",
       "      <td>0.005242</td>\n",
       "    </tr>\n",
       "  </tbody>\n",
       "</table>\n",
       "</div>"
      ],
      "text/plain": [
       "   index        Date      Open      High       Low     Close  high_low  \\\n",
       "0     20  1980-12-31  0.166016  0.167969  0.164062  0.164062  0.003906   \n",
       "1     21  1981-01-02  0.167969  0.171875  0.167969  0.167969  0.003906   \n",
       "2     22  1981-01-05  0.174805  0.177734  0.174805  0.174805  0.002930   \n",
       "3     23  1981-01-06  0.175781  0.177734  0.175781  0.175781  0.001953   \n",
       "4     24  1981-01-07  0.167969  0.167969  0.166016  0.166016  0.001953   \n",
       "\n",
       "   open_close   mvavgo7   mvavgc7  mvavgo14  mvavgc14  mvavgo21  mvavgc21  \\\n",
       "0    0.001953  0.161551  0.160993  0.155134  0.154018  0.160342  0.158761   \n",
       "1    0.000000  0.163783  0.163225  0.156808  0.155971  0.159784  0.158203   \n",
       "2    0.000000  0.166434  0.165876  0.158831  0.157994  0.159645  0.158157   \n",
       "3    0.000000  0.168387  0.167829  0.160505  0.159668  0.159366  0.157878   \n",
       "4    0.001953  0.168945  0.168108  0.161621  0.160924  0.158994  0.157599   \n",
       "\n",
       "       sd7o      sd7c  \n",
       "0  0.005255  0.004897  \n",
       "1  0.003812  0.003716  \n",
       "2  0.004138  0.004455  \n",
       "3  0.004911  0.005421  \n",
       "4  0.004546  0.005242  "
      ]
     },
     "execution_count": 34,
     "metadata": {},
     "output_type": "execute_result"
    }
   ],
   "source": [
    "nike = nike[['Date', 'Open', 'High', 'Low', 'Close']]\n",
    "nike['high_low'] = nike['High'] - nike['Low']\n",
    "nike['open_close'] = nike['Open'] - nike['Close']\n",
    "nike['mvavgo7'] = nike['Open'].rolling(window=7).mean()\n",
    "nike['mvavgc7'] = nike['Close'].rolling(window=7).mean()\n",
    "nike['mvavgo14'] = nike['Open'].rolling(window=14).mean()\n",
    "nike['mvavgc14'] = nike['Close'].rolling(window=14).mean()\n",
    "nike['mvavgo21'] = nike['Open'].rolling(window=21).mean()\n",
    "nike['mvavgc21'] = nike['Close'].rolling(window=21).mean()\n",
    "nike['sd7o'] = nike['Open'].rolling(window=7).std()\n",
    "nike['sd7c'] = nike['Close'].rolling(window=7).std()\n",
    "nike = nike[nike['mvavgc21'].notna()]\n",
    "nike = nike.reset_index()\n",
    "nike.head()"
   ]
  },
  {
   "cell_type": "code",
   "execution_count": 42,
   "id": "standard-mailing",
   "metadata": {},
   "outputs": [],
   "source": [
    "def tts(data):\n",
    "    L = len(data)\n",
    "    i = L - 15                             # Extracting last two weeks as test set\n",
    "    train = data.iloc[0:i+1]\n",
    "    test = data.iloc[i+1:L]\n",
    "    return train,test"
   ]
  },
  {
   "cell_type": "code",
   "execution_count": 43,
   "id": "metropolitan-queen",
   "metadata": {},
   "outputs": [],
   "source": [
    "train_nike, test_nike = tts(nike)"
   ]
  },
  {
   "cell_type": "markdown",
   "id": "velvet-girlfriend",
   "metadata": {},
   "source": [
    "## Exporting Data"
   ]
  },
  {
   "cell_type": "code",
   "execution_count": 47,
   "id": "improving-transsexual",
   "metadata": {},
   "outputs": [],
   "source": [
    "train_nike.to_csv('./tmp/processed/train_nike.csv')\n",
    "test_nike.to_csv('./tmp/processed/test_nike.csv')"
   ]
  },
  {
   "cell_type": "code",
   "execution_count": 48,
   "id": "public-roommate",
   "metadata": {},
   "outputs": [],
   "source": [
    "nike.to_csv('./tmp/processed/nike.csv')"
   ]
  },
  {
   "cell_type": "code",
   "execution_count": null,
   "id": "academic-ethiopia",
   "metadata": {},
   "outputs": [],
   "source": []
  }
 ],
 "metadata": {
  "kernelspec": {
   "display_name": "Python 3",
   "language": "python",
   "name": "python3"
  },
  "language_info": {
   "codemirror_mode": {
    "name": "ipython",
    "version": 3
   },
   "file_extension": ".py",
   "mimetype": "text/x-python",
   "name": "python",
   "nbconvert_exporter": "python",
   "pygments_lexer": "ipython3",
   "version": "3.8.3"
  }
 },
 "nbformat": 4,
 "nbformat_minor": 5
}
