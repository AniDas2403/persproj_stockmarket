{
 "cells": [
  {
   "cell_type": "markdown",
   "id": "temporal-bulgaria",
   "metadata": {},
   "source": [
    "## Loading Libraries"
   ]
  },
  {
   "cell_type": "code",
   "execution_count": 1,
   "id": "conscious-mitchell",
   "metadata": {},
   "outputs": [],
   "source": [
    "from keras.models import Sequential\n",
    "from keras.layers import Dense\n",
    "import numpy as np\n",
    "import pandas as pd\n",
    "import keras\n",
    "import tensorflow as tf\n",
    "import matplotlib.pyplot as plt\n",
    "from matplotlib import style\n",
    "import sklearn\n",
    "from sklearn.model_selection import train_test_split\n",
    "from sklearn.preprocessing import MinMaxScaler\n",
    "from sklearn import preprocessing, metrics  \n",
    "import math\n",
    "from keras import metrics\n",
    "from sklearn.ensemble import RandomForestRegressor\n",
    "from sklearn.metrics import accuracy_score\n",
    "from sklearn.metrics import confusion_matrix\n",
    "import xgboost as xgb"
   ]
  },
  {
   "cell_type": "markdown",
   "id": "metric-exploration",
   "metadata": {},
   "source": [
    "## Importing data"
   ]
  },
  {
   "cell_type": "code",
   "execution_count": 4,
   "id": "further-birth",
   "metadata": {},
   "outputs": [
    {
     "data": {
      "text/html": [
       "<div>\n",
       "<style scoped>\n",
       "    .dataframe tbody tr th:only-of-type {\n",
       "        vertical-align: middle;\n",
       "    }\n",
       "\n",
       "    .dataframe tbody tr th {\n",
       "        vertical-align: top;\n",
       "    }\n",
       "\n",
       "    .dataframe thead th {\n",
       "        text-align: right;\n",
       "    }\n",
       "</style>\n",
       "<table border=\"1\" class=\"dataframe\">\n",
       "  <thead>\n",
       "    <tr style=\"text-align: right;\">\n",
       "      <th></th>\n",
       "      <th>Unnamed: 0</th>\n",
       "      <th>Date</th>\n",
       "      <th>Open</th>\n",
       "      <th>High</th>\n",
       "      <th>Low</th>\n",
       "      <th>Close</th>\n",
       "      <th>high_low</th>\n",
       "      <th>open_close</th>\n",
       "      <th>mvavgo7</th>\n",
       "      <th>mvavgc7</th>\n",
       "      <th>mvavgo14</th>\n",
       "      <th>mvavgc14</th>\n",
       "      <th>mvavgo21</th>\n",
       "      <th>mvavgc21</th>\n",
       "      <th>sd7o</th>\n",
       "      <th>sd7c</th>\n",
       "    </tr>\n",
       "  </thead>\n",
       "  <tbody>\n",
       "    <tr>\n",
       "      <th>0</th>\n",
       "      <td>20</td>\n",
       "      <td>1987-09-17</td>\n",
       "      <td>0.27774</td>\n",
       "      <td>0.28231</td>\n",
       "      <td>0.27093</td>\n",
       "      <td>0.27327</td>\n",
       "      <td>0.01138</td>\n",
       "      <td>0.00447</td>\n",
       "      <td>0.268943</td>\n",
       "      <td>0.272576</td>\n",
       "      <td>0.258439</td>\n",
       "      <td>0.259604</td>\n",
       "      <td>0.255266</td>\n",
       "      <td>0.256479</td>\n",
       "      <td>0.011800</td>\n",
       "      <td>0.003432</td>\n",
       "    </tr>\n",
       "    <tr>\n",
       "      <th>1</th>\n",
       "      <td>21</td>\n",
       "      <td>1987-09-18</td>\n",
       "      <td>0.27327</td>\n",
       "      <td>0.27774</td>\n",
       "      <td>0.27327</td>\n",
       "      <td>0.27558</td>\n",
       "      <td>0.00447</td>\n",
       "      <td>-0.00231</td>\n",
       "      <td>0.273214</td>\n",
       "      <td>0.273570</td>\n",
       "      <td>0.259923</td>\n",
       "      <td>0.261253</td>\n",
       "      <td>0.256582</td>\n",
       "      <td>0.258012</td>\n",
       "      <td>0.003476</td>\n",
       "      <td>0.003085</td>\n",
       "    </tr>\n",
       "    <tr>\n",
       "      <th>2</th>\n",
       "      <td>22</td>\n",
       "      <td>1987-09-21</td>\n",
       "      <td>0.27558</td>\n",
       "      <td>0.27774</td>\n",
       "      <td>0.25722</td>\n",
       "      <td>0.26627</td>\n",
       "      <td>0.02052</td>\n",
       "      <td>0.00931</td>\n",
       "      <td>0.273879</td>\n",
       "      <td>0.271931</td>\n",
       "      <td>0.261572</td>\n",
       "      <td>0.261899</td>\n",
       "      <td>0.258116</td>\n",
       "      <td>0.258995</td>\n",
       "      <td>0.003411</td>\n",
       "      <td>0.003517</td>\n",
       "    </tr>\n",
       "    <tr>\n",
       "      <th>3</th>\n",
       "      <td>23</td>\n",
       "      <td>1987-09-22</td>\n",
       "      <td>0.26627</td>\n",
       "      <td>0.27992</td>\n",
       "      <td>0.26627</td>\n",
       "      <td>0.27992</td>\n",
       "      <td>0.01365</td>\n",
       "      <td>-0.01365</td>\n",
       "      <td>0.272240</td>\n",
       "      <td>0.272881</td>\n",
       "      <td>0.262219</td>\n",
       "      <td>0.264021</td>\n",
       "      <td>0.258990</td>\n",
       "      <td>0.260628</td>\n",
       "      <td>0.003958</td>\n",
       "      <td>0.004654</td>\n",
       "    </tr>\n",
       "    <tr>\n",
       "      <th>4</th>\n",
       "      <td>24</td>\n",
       "      <td>1987-09-23</td>\n",
       "      <td>0.27992</td>\n",
       "      <td>0.29611</td>\n",
       "      <td>0.27992</td>\n",
       "      <td>0.29162</td>\n",
       "      <td>0.01619</td>\n",
       "      <td>-0.01170</td>\n",
       "      <td>0.273190</td>\n",
       "      <td>0.275837</td>\n",
       "      <td>0.264340</td>\n",
       "      <td>0.267634</td>\n",
       "      <td>0.260730</td>\n",
       "      <td>0.262926</td>\n",
       "      <td>0.004926</td>\n",
       "      <td>0.008328</td>\n",
       "    </tr>\n",
       "  </tbody>\n",
       "</table>\n",
       "</div>"
      ],
      "text/plain": [
       "   Unnamed: 0        Date     Open     High      Low    Close  high_low  \\\n",
       "0          20  1987-09-17  0.27774  0.28231  0.27093  0.27327   0.01138   \n",
       "1          21  1987-09-18  0.27327  0.27774  0.27327  0.27558   0.00447   \n",
       "2          22  1987-09-21  0.27558  0.27774  0.25722  0.26627   0.02052   \n",
       "3          23  1987-09-22  0.26627  0.27992  0.26627  0.27992   0.01365   \n",
       "4          24  1987-09-23  0.27992  0.29611  0.27992  0.29162   0.01619   \n",
       "\n",
       "   open_close   mvavgo7   mvavgc7  mvavgo14  mvavgc14  mvavgo21  mvavgc21  \\\n",
       "0     0.00447  0.268943  0.272576  0.258439  0.259604  0.255266  0.256479   \n",
       "1    -0.00231  0.273214  0.273570  0.259923  0.261253  0.256582  0.258012   \n",
       "2     0.00931  0.273879  0.271931  0.261572  0.261899  0.258116  0.258995   \n",
       "3    -0.01365  0.272240  0.272881  0.262219  0.264021  0.258990  0.260628   \n",
       "4    -0.01170  0.273190  0.275837  0.264340  0.267634  0.260730  0.262926   \n",
       "\n",
       "       sd7o      sd7c  \n",
       "0  0.011800  0.003432  \n",
       "1  0.003476  0.003085  \n",
       "2  0.003411  0.003517  \n",
       "3  0.003958  0.004654  \n",
       "4  0.004926  0.008328  "
      ]
     },
     "execution_count": 4,
     "metadata": {},
     "output_type": "execute_result"
    }
   ],
   "source": [
    "data = pd.read_csv('./tmp/nike.csv', index_col=False)\n",
    "data.head()"
   ]
  },
  {
   "cell_type": "markdown",
   "id": "ancient-frederick",
   "metadata": {},
   "source": [
    "## Selecting input and output features"
   ]
  },
  {
   "cell_type": "code",
   "execution_count": 5,
   "id": "local-belief",
   "metadata": {},
   "outputs": [
    {
     "data": {
      "text/html": [
       "<div>\n",
       "<style scoped>\n",
       "    .dataframe tbody tr th:only-of-type {\n",
       "        vertical-align: middle;\n",
       "    }\n",
       "\n",
       "    .dataframe tbody tr th {\n",
       "        vertical-align: top;\n",
       "    }\n",
       "\n",
       "    .dataframe thead th {\n",
       "        text-align: right;\n",
       "    }\n",
       "</style>\n",
       "<table border=\"1\" class=\"dataframe\">\n",
       "  <thead>\n",
       "    <tr style=\"text-align: right;\">\n",
       "      <th></th>\n",
       "      <th>Open</th>\n",
       "      <th>High</th>\n",
       "      <th>Low</th>\n",
       "      <th>high_low</th>\n",
       "      <th>open_close</th>\n",
       "      <th>mvavgo7</th>\n",
       "      <th>mvavgc7</th>\n",
       "      <th>mvavgo14</th>\n",
       "      <th>mvavgc14</th>\n",
       "      <th>mvavgo21</th>\n",
       "      <th>mvavgc21</th>\n",
       "      <th>sd7o</th>\n",
       "      <th>sd7c</th>\n",
       "    </tr>\n",
       "  </thead>\n",
       "  <tbody>\n",
       "    <tr>\n",
       "      <th>0</th>\n",
       "      <td>0.27774</td>\n",
       "      <td>0.28231</td>\n",
       "      <td>0.27093</td>\n",
       "      <td>0.01138</td>\n",
       "      <td>0.00447</td>\n",
       "      <td>0.268943</td>\n",
       "      <td>0.272576</td>\n",
       "      <td>0.258439</td>\n",
       "      <td>0.259604</td>\n",
       "      <td>0.255266</td>\n",
       "      <td>0.256479</td>\n",
       "      <td>0.011800</td>\n",
       "      <td>0.003432</td>\n",
       "    </tr>\n",
       "    <tr>\n",
       "      <th>1</th>\n",
       "      <td>0.27327</td>\n",
       "      <td>0.27774</td>\n",
       "      <td>0.27327</td>\n",
       "      <td>0.00447</td>\n",
       "      <td>-0.00231</td>\n",
       "      <td>0.273214</td>\n",
       "      <td>0.273570</td>\n",
       "      <td>0.259923</td>\n",
       "      <td>0.261253</td>\n",
       "      <td>0.256582</td>\n",
       "      <td>0.258012</td>\n",
       "      <td>0.003476</td>\n",
       "      <td>0.003085</td>\n",
       "    </tr>\n",
       "    <tr>\n",
       "      <th>2</th>\n",
       "      <td>0.27558</td>\n",
       "      <td>0.27774</td>\n",
       "      <td>0.25722</td>\n",
       "      <td>0.02052</td>\n",
       "      <td>0.00931</td>\n",
       "      <td>0.273879</td>\n",
       "      <td>0.271931</td>\n",
       "      <td>0.261572</td>\n",
       "      <td>0.261899</td>\n",
       "      <td>0.258116</td>\n",
       "      <td>0.258995</td>\n",
       "      <td>0.003411</td>\n",
       "      <td>0.003517</td>\n",
       "    </tr>\n",
       "    <tr>\n",
       "      <th>3</th>\n",
       "      <td>0.26627</td>\n",
       "      <td>0.27992</td>\n",
       "      <td>0.26627</td>\n",
       "      <td>0.01365</td>\n",
       "      <td>-0.01365</td>\n",
       "      <td>0.272240</td>\n",
       "      <td>0.272881</td>\n",
       "      <td>0.262219</td>\n",
       "      <td>0.264021</td>\n",
       "      <td>0.258990</td>\n",
       "      <td>0.260628</td>\n",
       "      <td>0.003958</td>\n",
       "      <td>0.004654</td>\n",
       "    </tr>\n",
       "    <tr>\n",
       "      <th>4</th>\n",
       "      <td>0.27992</td>\n",
       "      <td>0.29611</td>\n",
       "      <td>0.27992</td>\n",
       "      <td>0.01619</td>\n",
       "      <td>-0.01170</td>\n",
       "      <td>0.273190</td>\n",
       "      <td>0.275837</td>\n",
       "      <td>0.264340</td>\n",
       "      <td>0.267634</td>\n",
       "      <td>0.260730</td>\n",
       "      <td>0.262926</td>\n",
       "      <td>0.004926</td>\n",
       "      <td>0.008328</td>\n",
       "    </tr>\n",
       "  </tbody>\n",
       "</table>\n",
       "</div>"
      ],
      "text/plain": [
       "      Open     High      Low  high_low  open_close   mvavgo7   mvavgc7  \\\n",
       "0  0.27774  0.28231  0.27093   0.01138     0.00447  0.268943  0.272576   \n",
       "1  0.27327  0.27774  0.27327   0.00447    -0.00231  0.273214  0.273570   \n",
       "2  0.27558  0.27774  0.25722   0.02052     0.00931  0.273879  0.271931   \n",
       "3  0.26627  0.27992  0.26627   0.01365    -0.01365  0.272240  0.272881   \n",
       "4  0.27992  0.29611  0.27992   0.01619    -0.01170  0.273190  0.275837   \n",
       "\n",
       "   mvavgo14  mvavgc14  mvavgo21  mvavgc21      sd7o      sd7c  \n",
       "0  0.258439  0.259604  0.255266  0.256479  0.011800  0.003432  \n",
       "1  0.259923  0.261253  0.256582  0.258012  0.003476  0.003085  \n",
       "2  0.261572  0.261899  0.258116  0.258995  0.003411  0.003517  \n",
       "3  0.262219  0.264021  0.258990  0.260628  0.003958  0.004654  \n",
       "4  0.264340  0.267634  0.260730  0.262926  0.004926  0.008328  "
      ]
     },
     "execution_count": 5,
     "metadata": {},
     "output_type": "execute_result"
    }
   ],
   "source": [
    "X = data[['Open', 'High', 'Low', 'high_low', 'open_close', 'mvavgo7', 'mvavgc7', 'mvavgo14', 'mvavgc14', 'mvavgo21', 'mvavgc21', 'sd7o', 'sd7c']]\n",
    "X.head()"
   ]
  },
  {
   "cell_type": "code",
   "execution_count": 6,
   "id": "rural-willow",
   "metadata": {},
   "outputs": [
    {
     "data": {
      "text/html": [
       "<div>\n",
       "<style scoped>\n",
       "    .dataframe tbody tr th:only-of-type {\n",
       "        vertical-align: middle;\n",
       "    }\n",
       "\n",
       "    .dataframe tbody tr th {\n",
       "        vertical-align: top;\n",
       "    }\n",
       "\n",
       "    .dataframe thead th {\n",
       "        text-align: right;\n",
       "    }\n",
       "</style>\n",
       "<table border=\"1\" class=\"dataframe\">\n",
       "  <thead>\n",
       "    <tr style=\"text-align: right;\">\n",
       "      <th></th>\n",
       "      <th>Close</th>\n",
       "    </tr>\n",
       "  </thead>\n",
       "  <tbody>\n",
       "    <tr>\n",
       "      <th>0</th>\n",
       "      <td>0.27327</td>\n",
       "    </tr>\n",
       "    <tr>\n",
       "      <th>1</th>\n",
       "      <td>0.27558</td>\n",
       "    </tr>\n",
       "    <tr>\n",
       "      <th>2</th>\n",
       "      <td>0.26627</td>\n",
       "    </tr>\n",
       "    <tr>\n",
       "      <th>3</th>\n",
       "      <td>0.27992</td>\n",
       "    </tr>\n",
       "    <tr>\n",
       "      <th>4</th>\n",
       "      <td>0.29162</td>\n",
       "    </tr>\n",
       "  </tbody>\n",
       "</table>\n",
       "</div>"
      ],
      "text/plain": [
       "     Close\n",
       "0  0.27327\n",
       "1  0.27558\n",
       "2  0.26627\n",
       "3  0.27992\n",
       "4  0.29162"
      ]
     },
     "execution_count": 6,
     "metadata": {},
     "output_type": "execute_result"
    }
   ],
   "source": [
    "Y = data[['Close']]\n",
    "Y.head()"
   ]
  },
  {
   "cell_type": "markdown",
   "id": "forced-newport",
   "metadata": {},
   "source": [
    "## Train-test split"
   ]
  },
  {
   "cell_type": "code",
   "execution_count": 7,
   "id": "attached-insertion",
   "metadata": {},
   "outputs": [],
   "source": [
    "X_train, X_test, y_train, y_test =  train_test_split(X, Y, test_size=0.20, shuffle=False)"
   ]
  },
  {
   "cell_type": "markdown",
   "id": "tribal-buffalo",
   "metadata": {},
   "source": [
    "## Building model"
   ]
  },
  {
   "cell_type": "code",
   "execution_count": 10,
   "id": "beneficial-process",
   "metadata": {},
   "outputs": [
    {
     "data": {
      "text/plain": [
       "XGBRegressor(base_score=0.5, booster='gbtree', colsample_bylevel=1,\n",
       "             colsample_bynode=1, colsample_bytree=1, enable_categorical=False,\n",
       "             gamma=0, gpu_id=-1, importance_type=None,\n",
       "             interaction_constraints='', learning_rate=0.300000012,\n",
       "             max_delta_step=0, max_depth=6, min_child_weight=1, missing=nan,\n",
       "             monotone_constraints='()', n_estimators=100, n_jobs=4,\n",
       "             num_parallel_tree=1, predictor='auto', random_state=0, reg_alpha=0,\n",
       "             reg_lambda=1, scale_pos_weight=1, subsample=1, tree_method='exact',\n",
       "             validate_parameters=1, verbosity=None)"
      ]
     },
     "execution_count": 10,
     "metadata": {},
     "output_type": "execute_result"
    }
   ],
   "source": [
    "xgbr1 = xgb.XGBRegressor()\n",
    "xgbr1.fit(X_train, y_train)"
   ]
  },
  {
   "cell_type": "code",
   "execution_count": 14,
   "id": "painful-graduate",
   "metadata": {},
   "outputs": [
    {
     "name": "stdout",
     "output_type": "stream",
     "text": [
      "Accuracy is: 19.93223472584172\n",
      "Predictions:\n",
      "[22.13433  22.137188 21.862677 22.131575 22.109327 22.045574 21.792376\n",
      " 22.07939  21.785418 21.861916]\n",
      "Expected values:\n",
      "       Close\n",
      "6080  22.455\n",
      "6081  22.362\n",
      "6082  21.789\n",
      "6083  22.034\n",
      "6084  22.204\n",
      "6085  21.903\n",
      "6086  21.771\n",
      "6087  22.146\n",
      "6088  21.435\n",
      "6089  21.798\n"
     ]
    }
   ],
   "source": [
    "import sklearn.metrics as metrics\n",
    "\n",
    "# Obtaining predictions for Model 1\n",
    "P = xgbr1.predict(X_test)\n",
    "\n",
    "# Accuracy evaluation\n",
    "A1 = sklearn.metrics.mean_absolute_error(y_test, P)           # Best possibe result would be 0.0\n",
    "print(\"Accuracy is:\", A1)\n",
    "\n",
    "np.set_printoptions(suppress=True)\n",
    "\n",
    "# Printing results\n",
    "print(\"Predictions:\")\n",
    "print(P[0:10])\n",
    "print(\"Expected values:\")\n",
    "print(y_test[0:10])"
   ]
  },
  {
   "cell_type": "code",
   "execution_count": 20,
   "id": "demographic-current",
   "metadata": {},
   "outputs": [
    {
     "data": {
      "text/plain": [
       "<Figure size 2160x1440 with 0 Axes>"
      ]
     },
     "execution_count": 20,
     "metadata": {},
     "output_type": "execute_result"
    },
    {
     "data": {
      "image/png": "[encoded data removed]",
      "text/plain": [
       "<Figure size 432x288 with 1 Axes>"
      ]
     },
     "metadata": {
      "needs_background": "light"
     },
     "output_type": "display_data"
    },
    {
     "data": {
      "text/plain": [
       "<Figure size 2160x1440 with 0 Axes>"
      ]
     },
     "metadata": {},
     "output_type": "display_data"
    }
   ],
   "source": [
    "L = range(200)\n",
    "ylabels = []\n",
    "for i in range(0,math.ceil(np.amax(y_test)+3),5):\n",
    "    ylabels.append(i)\n",
    "plt.yticks(ylabels,ylabels)\n",
    "plt.plot(L, P[0:200], 'r', \"Predictions\")\n",
    "plt.plot(L, y_test[0:200], 'b', \"Expected Values\")\n",
    "plt.title('Predictions vs Expected Values comparison for Model 1 for first 100 values')\n",
    "plt.figure(figsize=(30,20))"
   ]
  },
  {
   "cell_type": "code",
   "execution_count": null,
   "id": "effective-favorite",
   "metadata": {},
   "outputs": [],
   "source": []
  }
 ],
 "metadata": {
  "kernelspec": {
   "display_name": "Python 3",
   "language": "python",
   "name": "python3"
  },
  "language_info": {
   "codemirror_mode": {
    "name": "ipython",
    "version": 3
   },
   "file_extension": ".py",
   "mimetype": "text/x-python",
   "name": "python",
   "nbconvert_exporter": "python",
   "pygments_lexer": "ipython3",
   "version": "3.8.3"
  }
 },
 "nbformat": 4,
 "nbformat_minor": 5
}
